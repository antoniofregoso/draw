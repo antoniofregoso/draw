{
 "cells": [
  {
   "cell_type": "markdown",
   "metadata": {},
   "source": [
    "# Espiral de Fibonacci"
   ]
  },
  {
   "cell_type": "code",
   "execution_count": null,
   "metadata": {
    "vscode": {
     "languageId": "plaintext"
    }
   },
   "outputs": [],
   "source": [
    "import numpy as np\n",
    "import matplotlib.pyplot as plt\n",
    "from matplotlib.patches import Rectangle, Arc\n",
    "\n",
    "# Función para generar la secuencia de Fibonacci\n",
    "def fibonacci(n):\n",
    "    fib = [0, 1]\n",
    "    for i in range(2, n):\n",
    "        fib.append(fib[i-1] + fib[i-2])\n",
    "    return fib\n",
    "\n",
    "# Número de iteraciones (cuadrados y arcos a dibujar)\n",
    "n = 10\n",
    "fib = fibonacci(n)\n",
    "\n",
    "# Configurar la figura\n",
    "fig, ax = plt.subplots(figsize=(8, 8))\n",
    "ax.set_aspect('equal')\n",
    "ax.axis('off')  # Ocultar ejes\n",
    "\n",
    "# Variables para controlar la posición de los cuadrados\n",
    "x, y = 0, 0  # Punto inicial\n",
    "direction = [(1, 0), (0, 1), (-1, 0), (0, -1)]  # Direcciones: derecha, arriba, izquierda, abajo\n",
    "\n",
    "# Dibujar los cuadrados y los arcos\n",
    "for i in range(2, n):\n",
    "    size = fib[i]  # Tamaño del cuadrado (basado en Fibonacci)\n",
    "    \n",
    "    # Determinar la dirección actual\n",
    "    dir_idx = (i - 2) % 4\n",
    "    dx, dy = direction[dir_idx]\n",
    "    \n",
    "    # Ajustar la posición del cuadrado según la dirección\n",
    "    if dir_idx == 0:  # Derecha\n",
    "        x += fib[i-1] if i > 2 else 0\n",
    "    elif dir_idx == 1:  # Arriba\n",
    "        y += fib[i-1]\n",
    "        x += fib[i-2] if i > 2 else 0\n",
    "    elif dir_idx == 2:  # Izquierda\n",
    "        x -= size\n",
    "        y += fib[i-2] if i > 2 else 0\n",
    "    elif dir_idx == 3:  # Abajo\n",
    "        y -= size\n",
    "    \n",
    "    # Dibujar el cuadrado\n",
    "    square = Rectangle((x, y), size, size, edgecolor='blue', facecolor='none', lw=1)\n",
    "    ax.add_patch(square)\n",
    "    \n",
    "    # Calcular el centro y el ángulo del arco\n",
    "    if dir_idx == 0:  # Derecha\n",
    "        center = (x, y + size)\n",
    "        start_angle, end_angle = 90, 180\n",
    "    elif dir_idx == 1:  # Arriba\n",
    "        center = (x, y)\n",
    "        start_angle, end_angle = 0, 90\n",
    "    elif dir_idx == 2:  # Izquierda\n",
    "        center = (x + size, y)\n",
    "        start_angle, end_angle = 270, 360\n",
    "    elif dir_idx == 3:  # Abajo\n",
    "        center = (x + size, y + size)\n",
    "        start_angle, end_angle = 180, 270\n",
    "    \n",
    "    # Dibujar el arco\n",
    "    arc = Arc(center, 2*size, 2*size, theta1=start_angle, theta2=end_angle, color='red', lw=2)\n",
    "    ax.add_patch(arc)\n",
    "\n",
    "# Ajustar los límites de la figura\n",
    "max_size = fib[-1] * 1.5\n",
    "ax.set_xlim(-max_size, max_size)\n",
    "ax.set_ylim(-max_size, max_size)\n",
    "\n",
    "# Mostrar la figura\n",
    "plt.title(\"Espiral de Fibonacci\")\n",
    "plt.show()"
   ]
  }
 ],
 "metadata": {
  "language_info": {
   "name": "python"
  }
 },
 "nbformat": 4,
 "nbformat_minor": 2
}
