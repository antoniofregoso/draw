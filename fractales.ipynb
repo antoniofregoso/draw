{
 "cells": [
  {
   "cell_type": "markdown",
   "metadata": {},
   "source": [
    "# Conjunto de Mandelbrot\n"
   ]
  },
  {
   "cell_type": "code",
   "execution_count": null,
   "metadata": {
    "vscode": {
     "languageId": "plaintext"
    }
   },
   "outputs": [],
   "source": [
    "import numpy as np\n",
    "import matplotlib.pyplot as plt\n",
    "\n",
    "# Función para determinar si un punto pertenece al conjunto de Mandelbrot\n",
    "def mandelbrot(h, w, max_iter):\n",
    "    # Crear una cuadrícula de puntos complejos\n",
    "    y, x = np.ogrid[-1.4:1.4:h*1j, -2:0.8:w*1j]\n",
    "    c = x + y*1j\n",
    "    z = c\n",
    "    # Array para almacenar el número de iteraciones antes de escapar\n",
    "    diverge = max_iter + np.zeros(z.shape, dtype=int)\n",
    "\n",
    "    # Iterar para cada punto\n",
    "    for i in range(max_iter):\n",
    "        z = z**2 + c  # Ecuación del conjunto de Mandelbrot\n",
    "        diverge_mask = (abs(z) > 2) & (diverge == max_iter)  # Puntos que divergen\n",
    "        diverge[diverge_mask] = i  # Guardar la iteración en la que divergen\n",
    "        z[abs(z) > 2] = 2  # Evitar que los valores crezcan demasiado\n",
    "\n",
    "    return diverge\n",
    "\n",
    "# Parámetros de la imagen\n",
    "width = 800  # Ancho de la imagen\n",
    "height = 600  # Alto de la imagen\n",
    "max_iter = 100  # Máximo número de iteraciones\n",
    "\n",
    "# Generar el fractal\n",
    "fractal = mandelbrot(height, width, max_iter)\n",
    "\n",
    "# Visualizar el fractal\n",
    "plt.figure(figsize=(10, 7))\n",
    "plt.imshow(fractal, cmap='hot', extent=[-2, 0.8, -1.4, 1.4])\n",
    "plt.colorbar()\n",
    "plt.title('Conjunto de Mandelbrot')\n",
    "plt.xlabel('Re')\n",
    "plt.ylabel('Im')\n",
    "plt.show()"
   ]
  },
  {
   "cell_type": "markdown",
   "metadata": {},
   "source": []
  }
 ],
 "metadata": {
  "language_info": {
   "name": "python"
  }
 },
 "nbformat": 4,
 "nbformat_minor": 2
}
